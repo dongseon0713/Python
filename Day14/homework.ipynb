{
 "cells": [
  {
   "cell_type": "code",
   "execution_count": 12,
   "metadata": {},
   "outputs": [
    {
     "name": "stdout",
     "output_type": "stream",
     "text": [
      "you2@naver.com\n",
      "kimjs@gamil.com\n"
     ]
    }
   ],
   "source": [
    "## 7장 문제 1번\n",
    "email = \"\"\"hong@12.com\n",
    "you2@naver.com\n",
    "12kang@hanmail.net\n",
    "kimjs@gamil.com\"\"\"\n",
    "\n",
    "from re import findall, match # findall 함수 또는 match 함수 이용\n",
    "for e in email.split(sep='\\n'):\n",
    "    \n",
    "    result = findall('^[a-z]+\\\\w{3,}@[a-z]+\\\\w{2,}.[a-z]\\\\w{,2}', e)\n",
    "    if result:\n",
    "        print(result[0])"
   ]
  },
  {
   "cell_type": "code",
   "execution_count": 25,
   "metadata": {},
   "outputs": [
    {
     "name": "stdout",
     "output_type": "stream",
     "text": [
      "name =  [['홍길동'], ['이순신'], ['유관순']]\n"
     ]
    }
   ],
   "source": [
    "## 7장 문제 2번\n",
    "from re import findall\n",
    "\n",
    "emp = [\"2014홍길동220\", \"2002이순신300\", \"2010유관순260\"]\n",
    "names = []\n",
    "def name_pro(emp):\n",
    "    for e in emp:\n",
    "        result = findall('[^0-9]{3}', e)\n",
    "        names.append(result[0])\n",
    "    return names\n",
    "        \n",
    "\n",
    "names = name_pro(emp)\n",
    "print('name = ',names)\n"
   ]
  },
  {
   "cell_type": "code",
   "execution_count": 46,
   "metadata": {},
   "outputs": [
    {
     "name": "stdout",
     "output_type": "stream",
     "text": [
      "전체 사원의 급여 평균 :  260\n"
     ]
    }
   ],
   "source": [
    "## 7장 문제 3번\n",
    "from re import findall\n",
    "from statistics import mean\n",
    "\n",
    "emp = [\"2014홍길동220\", \"2002이순신300\", \"2010유관순260\"]\n",
    "pay = []\n",
    "def pay_pro(emp):\n",
    "    for e in emp:\n",
    "        result = findall('[가-힣][0-9]{3}', e)\n",
    "        result2 = findall('[0-9]{3}',result[0])\n",
    "        pay.append(int(result2[0]))\n",
    "    return mean(pay)\n",
    "        \n",
    "pay_mean = pay_pro(emp)\n",
    "print('전체 사원의 급여 평균 : ',pay_mean)"
   ]
  },
  {
   "cell_type": "code",
   "execution_count": 65,
   "metadata": {},
   "outputs": [
    {
     "name": "stdout",
     "output_type": "stream",
     "text": [
      "전체 급여 평균 :  260\n",
      "평균 이상 급여 수령자\n",
      "이순신=> 300\n",
      "유관순=> 260\n"
     ]
    }
   ],
   "source": [
    "from re import findall\n",
    "from statistics import mean\n",
    "\n",
    "emp = [\"2014홍길동220\", \"2002이순신300\", \"2010유관순260\"]\n",
    "names = []\n",
    "pays = []\n",
    "def pay_pro(x):\n",
    "    for e in emp:\n",
    "        name = findall('[가-힣]{3}', e)\n",
    "        names.append(name[0])\n",
    "        result = findall('[가-힣][0-9]{3}', e)\n",
    "        result2 = findall('[0-9]{3}',result[0])\n",
    "        pays.append(int(result2[0]))\n",
    "    pay_avg = mean(pays)\n",
    "    print('전체 급여 평균 : ',pay_avg)\n",
    "    print('평균 이상 급여 수령자')\n",
    "    for i in range(len(x)):\n",
    "        if pay_avg <= pay[i]:\n",
    "           print(names[i] +'=>' , pays[i])\n",
    "    \n",
    "        \n",
    "pay_pro(emp)"
   ]
  },
  {
   "cell_type": "code",
   "execution_count": 79,
   "metadata": {},
   "outputs": [
    {
     "data": {
      "text/plain": [
       "['afabasabag', 'abttaa', 'uysfsfaa']"
      ]
     },
     "execution_count": 79,
     "metadata": {},
     "output_type": "execute_result"
    }
   ],
   "source": [
    "## 7장 문제 5번\n",
    "\n",
    "from re import findall, sub\n",
    "\n",
    "texts = ['AFAB54747,asabag?', 'abTTa $$;a12:2424.', 'uysfsfA,A124&***$?']\n",
    "\n",
    "texts_re = [t.lower() for t in texts]\n",
    "texts_re2 = [sub('[0-9]', '', text) for text in texts_re]\n",
    "texts_re3 = [sub('[,.?!;:]', '', text) for text in texts_re2]\n",
    "texts_re4 = [sub(special_str, '', text) for text in texts_re3]\n",
    "texts_re5 = [''.join(text.split())for text in texts_re4]\n",
    "\n",
    "texts_re5"
   ]
  },
  {
   "cell_type": "code",
   "execution_count": null,
   "metadata": {},
   "outputs": [],
   "source": []
  }
 ],
 "metadata": {
  "interpreter": {
   "hash": "b89b5cfaba6639976dc87ff2fec6d58faec662063367e2c229c520fe71072417"
  },
  "kernelspec": {
   "display_name": "Python 3.10.4 64-bit",
   "language": "python",
   "name": "python3"
  },
  "language_info": {
   "codemirror_mode": {
    "name": "ipython",
    "version": 3
   },
   "file_extension": ".py",
   "mimetype": "text/x-python",
   "name": "python",
   "nbconvert_exporter": "python",
   "pygments_lexer": "ipython3",
   "version": "3.10.4"
  },
  "orig_nbformat": 4
 },
 "nbformat": 4,
 "nbformat_minor": 2
}
