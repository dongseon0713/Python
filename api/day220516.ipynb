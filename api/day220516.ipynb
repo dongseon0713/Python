{
 "cells": [
  {
   "cell_type": "code",
   "execution_count": 1,
   "metadata": {},
   "outputs": [],
   "source": [
    "## OpenWeaatherMap의 API 접속 사용\n",
    "## 서울, 도쿄, 뉴욕 날씨를 알아와 출력하기"
   ]
  },
  {
   "cell_type": "code",
   "execution_count": 46,
   "metadata": {},
   "outputs": [
    {
     "name": "stdout",
     "output_type": "stream",
     "text": [
      "<class 'requests.models.Response'>\n",
      "+ 도시 =  Seoul\n",
      "| 날씨 =  clear sky\n",
      "| 최고 기온 =  23.7\n",
      "| 최저 기온 =  19.7\n",
      "| 습도 =  28\n",
      "| 기압 =  1010\n",
      "| 풍향 =  234\n",
      "| 풍속 =  5.42\n",
      "\n",
      "<class 'requests.models.Response'>\n",
      "+ 도시 =  Tokyo\n",
      "| 날씨 =  light rain\n",
      "| 최고 기온 =  15.9\n",
      "| 최저 기온 =  14.3\n",
      "| 습도 =  91\n",
      "| 기압 =  1011\n",
      "| 풍향 =  20\n",
      "| 풍속 =  6.17\n",
      "\n",
      "<class 'requests.models.Response'>\n",
      "+ 도시 =  New York\n",
      "| 날씨 =  clear sky\n",
      "| 최고 기온 =  21.2\n",
      "| 최저 기온 =  14.5\n",
      "| 습도 =  82\n",
      "| 기압 =  1010\n",
      "| 풍향 =  360\n",
      "| 풍속 =  3.13\n",
      "\n"
     ]
    }
   ],
   "source": [
    "import requests\n",
    "import json\n",
    "\n",
    "# APIkey 지정...\n",
    "api_key = \"113a4bce75769be2c1564ddf3e9022e2\"\n",
    "\n",
    "# 날씨를 확인할 도시 시정\n",
    "Cities = [\"Seoul,KR\" , \"Tokyo,JP\", \"New York,US\"]\n",
    "\n",
    "api = \"https://api.openweathermap.org/data/2.5/weather?q={City}&APPID={key}\"\n",
    "\n",
    "# 켈빈 온도를 섭씨로 변환\n",
    "k2c = lambda k:k - 273.15\n",
    "\n",
    "# 각 도시의 정보 추출\n",
    "for name in Cities:\n",
    "    ## API요청 URL구성\n",
    "    url = api.format(City=name, key=api_key)\n",
    "    \n",
    "    ## API요청\n",
    "    re = requests.get(url)\n",
    "    \n",
    "    ## 요청 결과를 Json으로 \n",
    "    data = json.loads(re.text)\n",
    "\n",
    "    ## 출력 결과 보기\n",
    "    print(\"+ 도시 = \", data[\"name\"])\n",
    "    print(\"| 날씨 = \", data[\"weather\"][0][\"description\"])\n",
    "    print(\"| 최고 기온 = \", round(k2c(data[\"main\"][\"temp_max\"]),1))\n",
    "    print(\"| 최저 기온 = \", round(k2c(data[\"main\"][\"temp_min\"]),1))\n",
    "    print(\"| 습도 = \", data[\"main\"][\"humidity\"])\n",
    "    print(\"| 기압 = \", data[\"main\"][\"pressure\"])\n",
    "    print(\"| 풍향 = \", data[\"wind\"][\"deg\"])\n",
    "    print(\"| 풍속 = \", data[\"wind\"][\"speed\"])\n",
    "    print()\n",
    "    \n",
    "    \n",
    "## http://bulk.openweathermap.org/sample/city.list.json.gz\n",
    "\n",
    "# API들\n",
    "# https://apistore.co.kr/api/apiList.do\n",
    "# https://developers.naver.com/main/    네이버 개발자 센터\n",
    "# https://developers.kakao.com/         카카오 개발자 센터\n",
    "# https://data.go.kr/                   공공데이터포털\n",
    "\n",
    "\n",
    "\n",
    "    "
   ]
  },
  {
   "cell_type": "code",
   "execution_count": 1,
   "metadata": {},
   "outputs": [
    {
     "name": "stdout",
     "output_type": "stream",
     "text": [
      "b'{\"response\":{\"header\":{\"resultCode\":\"00\",\"resultMsg\":\"NORMAL_SERVICE\"},\"body\":{\"dataType\":\"JSON\",\"items\":{\"item\":[{\"man-file\":\"[http://www.kma.go.kr/repositary/image/cht/img/ghmd_s24_2022051500.png, http://www.kma.go.kr/repositary/image/cht/img/ghmd_s24_2022051512.png]\"}]},\"pageNo\":1,\"numOfRows\":10,\"totalCount\":2}}}'\n"
     ]
    }
   ],
   "source": [
    "## 기상 데이터 받아오기\n",
    "\n",
    "import requests\n",
    "\n",
    "url = 'http://apis.data.go.kr/1360000/WthrChartInfoService/getSurfaceChart'\n",
    "params ={'serviceKey' : 'oafC5Zc4+cIQiw8Lu090+2+0ggaH2nlC1RfBnwhmRGSxTx5BWYgMGwJWg4XFvH1d8tAQDnjIIY0DGK9Aa3RKcQ==', 'pageNo' : '1', 'numOfRows' : '10', 'dataType' : 'Json', 'code' : '24', 'time' : '20220515' }\n",
    "\n",
    "response = requests.get(url, params=params)\n",
    "\n",
    "print(response.content)\n",
    "\n"
   ]
  },
  {
   "cell_type": "code",
   "execution_count": 18,
   "metadata": {},
   "outputs": [
    {
     "name": "stdout",
     "output_type": "stream",
     "text": [
      "+ 구름많음\n",
      "| - 서울\n",
      "| - 인천\n",
      "| - 수원\n",
      "| - 파주\n",
      "| - 이천\n",
      "| - 평택\n",
      "| - 춘천\n",
      "| - 원주\n",
      "| - 대전\n",
      "| - 세종\n",
      "| - 홍성\n",
      "| - 청주\n",
      "| - 충주\n",
      "| - 영동\n",
      "| - 광주\n",
      "| - 목포\n",
      "| - 여수\n",
      "| - 순천\n",
      "| - 광양\n",
      "| - 나주\n",
      "| - 전주\n",
      "| - 군산\n",
      "| - 정읍\n",
      "| - 남원\n",
      "| - 고창\n",
      "| - 무주\n",
      "| - 부산\n",
      "| - 울산\n",
      "| - 창원\n",
      "| - 진주\n",
      "| - 거창\n",
      "| - 통영\n",
      "| - 제주\n",
      "| - 서귀포\n",
      "+ 맑음\n",
      "| - 강릉\n",
      "| - 대구\n",
      "| - 안동\n",
      "| - 포항\n",
      "| - 경주\n",
      "| - 울진\n",
      "| - 울릉도\n"
     ]
    }
   ],
   "source": [
    "### 다양한 데이터 형식\n",
    "# 1. XML(Extensible Markup Language)\n",
    "#   : 범용적 데이터 형식으로 W3C에서 만듬\n",
    "#   계층구조로 데이터를 표현할 수 있다는 특징\n",
    "#   기본 구조 : <요소 속성=\"속성값\">내용</요소>\n",
    "\n",
    "# ex)\n",
    "# <products type=\"전자제품\">\n",
    "#       <product id=\"S001\" price=\"45000\">SD 카드 128GB </product>\n",
    "#       <product id=\"S002\" price=\"32000\">마우스</product>\n",
    "# </products>\n",
    "\n",
    "from bs4 import BeautifulSoup\n",
    "import urllib.request as req\n",
    "import os.path\n",
    "\n",
    "# xml 다운로드\n",
    "url = \"https://www.kma.go.kr/weather/forecast/mid-term-rss3.jsp?stnId=108\"\n",
    "savename = \"forecast.xml\"\n",
    "if not os.path.exists(\"data/\" + savename):\n",
    "    req.urlretrieve(url,\"data/\"+savename)\n",
    "    \n",
    "# BeautifulSoup으로 분석\n",
    "\n",
    "xml = open(\"data/\"+savename,\"r\",encoding=\"utf-8\")\n",
    "soup = BeautifulSoup(xml, \"html.parser\")\n",
    "\n",
    "\n",
    "# 각 지역별 정보 확인\n",
    "info = {} ## 지역 정보를 저장할 공간\n",
    "\n",
    "for location in soup.find_all(\"location\"):\n",
    "    name = location.find('city').string\n",
    "    weather = location.find('wf').string\n",
    "    if not (weather in info):\n",
    "        info[weather] = []\n",
    "    info[weather].append(name)\n",
    "\n",
    "# 각 지역별 날씨를 구분해서 출력\n",
    "for weather in info.keys():\n",
    "    print(\"+\", weather)\n",
    "    for name in info[weather]:\n",
    "        print(\"| - \",name)"
   ]
  },
  {
   "cell_type": "code",
   "execution_count": null,
   "metadata": {},
   "outputs": [],
   "source": [
    "### JSON의 구조\n",
    "# https://json.org/json-ko.html "
   ]
  },
  {
   "cell_type": "code",
   "execution_count": null,
   "metadata": {},
   "outputs": [],
   "source": [
    "### YAML 분석\n",
    "# : 들여쓰기를 사용해서 계층 구조를 표현하는 것이 특징인 데이터 형식\n",
    "#  XML보다 간단하고, 거의 JSON과 비슷하다.\n",
    "#  파이썬에서 YAML을 다루기 위해서는 PyYAML이라는 모듈을 설치해야 한다.\n"
   ]
  },
  {
   "cell_type": "code",
   "execution_count": 20,
   "metadata": {},
   "outputs": [
    {
     "name": "stdout",
     "output_type": "stream",
     "text": [
      "Defaulting to user installation because normal site-packages is not writeable\n",
      "Collecting PyYAML\n",
      "  Downloading PyYAML-6.0-cp310-cp310-win_amd64.whl (151 kB)\n",
      "     -------------------------------------- 151.7/151.7 KB 4.6 MB/s eta 0:00:00\n",
      "Installing collected packages: PyYAML\n",
      "Successfully installed PyYAML-6.0\n",
      "Note: you may need to restart the kernel to use updated packages.\n"
     ]
    },
    {
     "name": "stderr",
     "output_type": "stream",
     "text": [
      "WARNING: You are using pip version 22.0.4; however, version 22.1 is available.\n",
      "You should consider upgrading via the 'c:\\Program Files\\Python310\\python.exe -m pip install --upgrade pip' command.\n"
     ]
    }
   ],
   "source": [
    "pip install PyYAML"
   ]
  },
  {
   "cell_type": "code",
   "execution_count": 46,
   "metadata": {},
   "outputs": [
    {
     "name": "stdout",
     "output_type": "stream",
     "text": [
      "Banana 1000\n",
      "Orange 1400\n",
      "Apple 2000\n"
     ]
    }
   ],
   "source": [
    "## YAML 사용하기 예제\n",
    "import yaml\n",
    "\n",
    "# YAML 예제\n",
    "yaml_str = \"\"\"\n",
    "Date: 2022-05-16\n",
    "PriceList:\n",
    "    - \n",
    "        tem_id: 1000\n",
    "        name: Banana\n",
    "        color: yellow\n",
    "        price: 1000\n",
    "    -\n",
    "        item_id: 1001\n",
    "        name: Orange\n",
    "        color: orange\n",
    "        price: 1400\n",
    "    -\n",
    "        item_id: 1002\n",
    "        name: Apple\n",
    "        color: red\n",
    "        price: 2000\n",
    "\"\"\"\n",
    "\n",
    "## yaml 분석\n",
    "data = yaml.full_load(yaml_str)\n",
    "data2 = yaml.safe_load(yaml_str) ### load() 보안상 이유로 경고가 발생\n",
    "\n",
    "# 이름 가격 출력\n",
    "for item in data2['PriceList']:\n",
    "    print(item['name'],item['price'])"
   ]
  },
  {
   "cell_type": "code",
   "execution_count": 45,
   "metadata": {},
   "outputs": [
    {
     "name": "stdout",
     "output_type": "stream",
     "text": [
      "- age: '24'\n",
      "  gender: man\n",
      "  name: InSeong\n",
      "- age: '22'\n",
      "  gender: woman\n",
      "  name: gilja\n",
      "- age: '31'\n",
      "  gender: man\n",
      "  name: sunshin\n",
      "- age: '23'\n",
      "  gender: man\n",
      "  name: bangown\n",
      "\n",
      "InSeong\n",
      "gilja\n",
      "sunshin\n",
      "bangown\n"
     ]
    }
   ],
   "source": [
    "import yaml\n",
    "\n",
    "# 파이썬 데이터를 yaml데이터 출력\n",
    "customer = [\n",
    "    {\"name\":\"InSeong\",\"age\":\"24\",\"gender\":\"man\"},\n",
    "    {\"name\":\"gilja\",\"age\":\"22\",\"gender\":\"woman\"},\n",
    "    {\"name\":\"sunshin\",\"age\":\"31\",\"gender\":\"man\"},\n",
    "    {\"name\":\"bangown\",\"age\":\"23\",\"gender\":\"man\"}\n",
    "]\n",
    "\n",
    "# yaml데이터로 변환\n",
    "yaml_str1 = yaml.dump(customer)\n",
    "print(yaml_str1)\n",
    "\n",
    "# yaml데이터를 파이썬 데이터로 변환\n",
    "data = yaml.safe_load(yaml_str1)\n",
    "\n",
    "for name in data:\n",
    "    print(name['name'])"
   ]
  },
  {
   "cell_type": "code",
   "execution_count": 47,
   "metadata": {},
   "outputs": [
    {
     "name": "stdout",
     "output_type": "stream",
     "text": [
      "title =  #FF0000\n",
      "body =  #00FF00\n",
      "link =  #00FFFF\n"
     ]
    }
   ],
   "source": [
    "## YAML의 기본은 배열, 해시, 스칼라(문자얄, 숫자, 블리언)\n",
    "## 배열을 나타낼 때는 각 행의 앞에 하이픈(-)을 붙인다... 하이픈 뒤에는 공백이 필요함.\n",
    "\n",
    "## 예시(배열)\n",
    "# - banana\n",
    "# - kiwi\n",
    "# - mango\n",
    "\n",
    "## 예시(중첩 배열), 들여쓰기 다음에 바로 빈 요소를 사용함.\n",
    "# - Yellow\n",
    "# -\n",
    "#   - Banana\n",
    "#   - Orange\n",
    "# - Red\n",
    "# -\n",
    "#   - Apple\n",
    "#   - StrawBerry\n",
    "\n",
    "## 해시표현(\"<키>:<값>\"), 해시표현시에도 들여쓰기를 사용하여 계층구조를 표현\n",
    "# name: Gurum\n",
    "# age: 4\n",
    "# color: brown\n",
    "\n",
    "## YAML의 주석은 \"#\"\n",
    "\n",
    "## YAML에서 여러줄 문자열을 지정하는 방법\n",
    "# multi-line: |\n",
    "#   I like Banana\n",
    "#   I like Mango\n",
    "#   I like Orange\n",
    "\n",
    "## YAML은 앵커와 별칭 기능을 제공\n",
    "# \"&<이름>\" 형태로 변수를 선언, \"*<이름>\" 형태로 참조\n",
    "\n",
    "# 색 정의\n",
    "# color_define:\n",
    "#         - &color1 \"#FF0000\"\n",
    "#         - &color2 \"#00FF00\"\n",
    "#         - &color3 \"#00FFFF\"\n",
    "        \n",
    "# # 색 설정\n",
    "# frame_color:\n",
    "#     title: *color1\n",
    "#     logo: *color2\n",
    "    \n",
    "# article_color: \n",
    "#     title: *color2\n",
    "#     back: *color3\n",
    "\n",
    "import yaml\n",
    "# 문자열로 yaml을 정의\n",
    "yaml_str = \"\"\"\n",
    "color_def:\n",
    "    - &color1 \"#FF0000\"\n",
    "    - &color2 \"#00FF00\"\n",
    "    - &color3 \"#00FFFF\"\n",
    "        \n",
    "# 색 설정 (별칭 테스트)\n",
    "color:\n",
    "     title: *color1\n",
    "     body: *color2\n",
    "     link: *color3\n",
    "\"\"\"\n",
    "\n",
    "# YAML 데이터로 분석\n",
    "data = yaml.safe_load(yaml_str)\n",
    "\n",
    "# 별칭 확인 테스트\n",
    "print(\"title = \", data[\"color\"][\"title\"])\n",
    "print(\"body = \", data[\"color\"][\"body\"])\n",
    "print(\"link = \", data[\"color\"][\"link\"])"
   ]
  },
  {
   "cell_type": "code",
   "execution_count": 99,
   "metadata": {},
   "outputs": [
    {
     "name": "stdout",
     "output_type": "stream",
     "text": [
      "1 세종 349\n",
      "2 제주 670\n",
      "3 울산 1140\n",
      "4 광주 1488\n",
      "5 대전 1500\n"
     ]
    }
   ],
   "source": [
    "### Excel 파일 읽어오기\n",
    "\n",
    "import openpyxl\n",
    "\n",
    "# 엑셀 파일 열기\n",
    "filename = \"stat_100701.xlsx\"\n",
    "book = openpyxl.load_workbook(\"data/\"+filename)\n",
    "\n",
    "# 맨 앞에 시트(sheet) 추출\n",
    "sheet = book.worksheets[0]\n",
    "\n",
    "# 시트의 각 행을 순서대로 추출\n",
    "data = []\n",
    "for row in sheet.rows:\n",
    "    data.append([\n",
    "        row[0].value,\n",
    "        row[7].value\n",
    "    ])\n",
    "\n",
    "# 필요없는 줄(헤더, 연도, 계) 제거하기\n",
    "del data[0:5]\n",
    "del data[-4:]\n",
    "#data\n",
    "\n",
    "# 데이터를 인구 순서로 정렬\n",
    "data = sorted(data, key=lambda x:int(x[1].replace(',','')))\n",
    "data\n",
    "\n",
    "# 하위 5위까지 출력\n",
    "for i, a in enumerate(data):\n",
    "    if(i >= 5):\n",
    "        break\n",
    "    print(i+1, a[0], int(a[1].replace(',','')))"
   ]
  },
  {
   "cell_type": "code",
   "execution_count": 110,
   "metadata": {},
   "outputs": [
    {
     "name": "stdout",
     "output_type": "stream",
     "text": [
      "1 세종 349\n",
      "2 제주 670\n",
      "3 울산 1140\n",
      "4 광주 1488\n",
      "5 대전 1500\n"
     ]
    }
   ],
   "source": [
    "### Excel 파일 읽어오기\n",
    "\n",
    "import openpyxl\n",
    "\n",
    "# 엑셀 파일 열기\n",
    "filename = \"stat_100701_re.xlsx\"\n",
    "book = openpyxl.load_workbook(\"data/\"+filename)\n",
    "\n",
    "# 맨 앞에 시트(sheet) 추출\n",
    "sheet = book.worksheets[0]\n",
    "\n",
    "# 시트의 각 행을 순서대로 추출\n",
    "data = []\n",
    "for row in sheet.rows:\n",
    "    data.append([\n",
    "        row[0].value,\n",
    "        row[4].value\n",
    "    ])\n",
    "\n",
    "# 필요없는 줄(헤더, 연도, 계) 제거하기\n",
    "del data[0:5]\n",
    "del data[-4:]\n",
    "#data\n",
    "\n",
    "# 데이터를 인구 순서로 정렬\n",
    "data = sorted(data, key=lambda x:x[1])\n",
    "data\n",
    "\n",
    "# 하위 5위까지 출력\n",
    "for i, a in enumerate(data):\n",
    "    if(i >= 5):\n",
    "        break\n",
    "    print(i+1, a[0], a[1])"
   ]
  },
  {
   "cell_type": "code",
   "execution_count": null,
   "metadata": {},
   "outputs": [],
   "source": [
    "# import pandas\n",
    "\n",
    "# data_test = pandas.read_excel(\"data/\"+filename, \"Sheet0\")\n",
    "\n",
    "# data_test"
   ]
  },
  {
   "cell_type": "code",
   "execution_count": 130,
   "metadata": {},
   "outputs": [
    {
     "name": "stdout",
     "output_type": "stream",
     "text": [
      "51362 9766\n",
      "서울 제외 인구 =  41596\n",
      "51362 9705\n",
      "서울 제외 인구 =  41657\n",
      "51362 9662\n",
      "서울 제외 인구 =  41700\n",
      "51362 9602\n",
      "서울 제외 인구 =  41760\n"
     ]
    }
   ],
   "source": [
    "### Excel 데이터 쓰기\n",
    "\n",
    "import openpyxl\n",
    "\n",
    "# 엑셀파일 열기\n",
    "filename = \"stat_100701_re.xlsx\"\n",
    "book = openpyxl.load_workbook(\"data/\"+filename)\n",
    "\n",
    "# 활성화된 시트 추출\n",
    "sheet = book.active\n",
    "#sheet\n",
    "\n",
    "# 서울을 제외한 인구를 구해서 쓰기\n",
    "for i in range(0,4):\n",
    "    total = int(sheet[str(chr(i+66))+\"5\"].value)\n",
    "    seoul = int(sheet[str(chr(i+66))+\"6\"].value)\n",
    "    output = total - seoul\n",
    "    print(total, seoul)\n",
    "    print(\"서울 제외 인구 = \", output)\n",
    "    \n",
    "    # 쓰기\n",
    "    sheet[str(chr(i+66))+\"24\"] = output\n",
    "    \n",
    "    cell = sheet[str(chr(i+66))+\"24\"]\n",
    "    \n",
    "    # 폰트 색상 변경\n",
    "    cell.font = openpyxl.styles.Font(size=14, color=\"FF0000\")\n",
    "    cell.number_format = cell.number_format\n",
    "sheet[str(chr(65))+\"24\"] = \"서울제외인구\"\n",
    "\n",
    "# 엑셀파일 저장하기\n",
    "filename = \"population.xlsx\"\n",
    "book.save(\"data/\"+filename)\n"
   ]
  },
  {
   "cell_type": "code",
   "execution_count": null,
   "metadata": {},
   "outputs": [],
   "source": []
  },
  {
   "cell_type": "code",
   "execution_count": null,
   "metadata": {},
   "outputs": [],
   "source": []
  },
  {
   "cell_type": "code",
   "execution_count": null,
   "metadata": {},
   "outputs": [],
   "source": []
  },
  {
   "cell_type": "code",
   "execution_count": null,
   "metadata": {},
   "outputs": [],
   "source": []
  }
 ],
 "metadata": {
  "interpreter": {
   "hash": "26de051ba29f2982a8de78e945f0abaf191376122a1563185a90213a26c5da77"
  },
  "kernelspec": {
   "display_name": "Python 3.10.4 64-bit",
   "language": "python",
   "name": "python3"
  },
  "language_info": {
   "codemirror_mode": {
    "name": "ipython",
    "version": 3
   },
   "file_extension": ".py",
   "mimetype": "text/x-python",
   "name": "python",
   "nbconvert_exporter": "python",
   "pygments_lexer": "ipython3",
   "version": "3.10.4"
  },
  "orig_nbformat": 4
 },
 "nbformat": 4,
 "nbformat_minor": 2
}
