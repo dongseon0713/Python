{
 "cells": [
  {
   "cell_type": "markdown",
   "metadata": {},
   "source": [
    "#### 정규 표현식\n",
    " 웹, SNS에서 수집한 자료들은 대부분 가공되어 있지 않은 상태로 수집\n",
    " 이런 이유로 필요한 문자열을 적절하게 자르고, 교체하고, 추출하는 작업을 진행\n",
    " 이때 사용되는 것이 \"정규 표현식\"\n",
    "\n",
    " #### 메타 문자\n",
    " 정규 표현식에서 일정한 의미를 가지고 있는 특수문자를 \"메타 문자\"라고 한다."
   ]
  },
  {
   "cell_type": "markdown",
   "metadata": {},
   "source": [
    "#### 주요 메타 문자\n",
    "메타문자 | 정규 표현식 | 의미\n",
    ":--:|:--:|:--:\n",
    ". | .x 또는 x. | 임의의 한 문자가 x 앞에 또는 뒤에 오는 패턴 지정\n",
    "^ | ^x | x로 시작하는 문자열 (접두어 패턴을 지정)\n",
    "$ | x$ | x로 끝나는 문자열 (접미어 패턴을 지정)\n",
    "\\* | x* | x가 0번 이상 반복\n",
    "\\+ | x+ | x가 1번 이상 반복\n",
    "? | x? | x가 0 또는 1개 존재\n",
    "\\| | abc\\|ABC | abc 또는 ABC 두 개 중 하나(or)\n",
    "\\[] | \\[x] | x문자 1개 일치\n",
    "\\[^] | \\[^x] | 특정 패턴에 x 문자를 제외(부정)\n",
    "{n} | x{n} | x가 n번 연속\n",
    "{n,} | x{n,} | x가 n번 이상 연속\n",
    "{m,n} | x{m,n} | x가 m ~ n 사이 연속\n",
    "\n",
    "#### 메타문자로 사용되는 이스케이프 문자\n",
    "메타문자 | 의미\n",
    ":--:|:--:\n",
    "\\s | 공백문자(white space)\n",
    "\\b | 문자와 공백 사이\n",
    "\\d | 숫자\\[0-9]와 같다.\n",
    "\\w | 단어 \\[0-9a-zA-z_]와 같다. 영문자 + 숫자 + _\n",
    "\\n | 줄바꿈 문자\n",
    "\\t | 탭 문자\n",
    "\n",
    "** 이스케이프 문자를 대문자로 적으면 반대 의미로 해석...\n",
    "예로 \"\\S\"는 공백문자가 아닌 경우의 패턴을 의미함. \n",
    "\n"
   ]
  },
  {
   "cell_type": "code",
   "execution_count": null,
   "metadata": {},
   "outputs": [],
   "source": [
    "### 정규 표현식 모듈\n",
    "# 모듈명 : re 모듈 (regular expression)\n",
    "# 사용 : import re"
   ]
  },
  {
   "cell_type": "markdown",
   "metadata": {},
   "source": [
    "#### re 모듈의 주요 내장 함수\n",
    "| 함수(파라미터) | 기능|\n",
    "|:---:|:---|\n",
    "|compile(pattern, flags=0) | 패턴을 컴파일하여 Pattern 객체를 반환|\n",
    "|escape(pattern) | 문자열에서 특수 문자를 이스케이프 처리\n",
    "|find_all(pattern, string, flags=0) | string에서 패턴과 일치하는 모둔 문자열을 리스트로 반환|\n",
    "|finditer(pattern, string, flags=0) | string에서 패턴과 일치하는 모든 문자열을 반복자로 반환|\n",
    "|fullmatch(pattern, string, flags=0) | 패턴을 모든 string에 적용하여 Match 객체를 반환, 일치하는 항목이 없으면 None반환|\n",
    "|match(pattern, string, flags=0) | string의 처음부터 패턴을 적용하여 Match객체를 반환, 일치하는 것이 없으면 None반환|\n",
    "|search(pattern, string, flags=0) | 문자열을 스캔하여 패턴과 일치하는지 확인하고 일치하는 객체를 리턴|\n",
    "|split(pattern, string, maxsplit=0, flags=0) | string을 대상을 패턴과 일치하는 문자열을 분활하여 부분 문자열이 포함되는 리스트 반환|\n",
    "|sub(pattern, replace, string, count=0, flags=0) | string에서 패턴과 일치하는 문자열을 replace로 대체하여 문자열을 반환|\n",
    "|subn(pattern. replace, string, count=0, flags=0) | 문자열에서 패턴과 일치하는 문자열을 replace로 대체하여 (new_string, 숫자) 형식의 튜플로 반환 |\n",
    "|template(pattern, flags=0) | 템플릿 패턴을 컴파일하여 pattern객체 반환|\n",
    "\n"
   ]
  },
  {
   "cell_type": "code",
   "execution_count": 32,
   "metadata": {},
   "outputs": [
    {
     "name": "stdout",
     "output_type": "stream",
     "text": [
      "['1234']\n",
      "['1', '2', '3', '4', '5', '5', '5', '5', '6']\n",
      "['123', '555']\n",
      "['12345', '555']\n",
      "['1234', '555']\n",
      "['123', '555']\n",
      "['홍길동', '이사도시']\n",
      "['abc']\n",
      "['abc', 'ABC']\n",
      "['test']\n",
      "['st']\n",
      "['abc', 'mbc']\n",
      "['abc', 'mbc']\n",
      "['abc', 'mbc']\n",
      "['te', 't1', 'te']\n",
      "['test', '홍길동', 'abc', '123', 'tbc']\n"
     ]
    },
    {
     "data": {
      "text/plain": [
       "['test', '홍길동 abc 대한+민국 123', 'tbc']"
      ]
     },
     "execution_count": 32,
     "metadata": {},
     "output_type": "execute_result"
    }
   ],
   "source": [
    "## 문자열 찾기 예[findall()]\n",
    "\n",
    "import re # 모듈 추가1\n",
    "from re import findall # 모듈 추가 2\n",
    "\n",
    "str1 = '12345 abc홍길동 ABC_555_6 이사도시'\n",
    "\n",
    "# 숫자 찾기\n",
    "print(findall('1234', str1))            # '1234' 문자 찾기\n",
    "print(findall('[0-9]', str1))           # ['1', '2', '3', '4', '5', '5', '5', '6'] 한글자 패턴\n",
    "print(findall('[0-9]{3}', str1))        # []{n} 연속된 n번 패턴\n",
    "print(findall('[0-9]{3,}', str1))       # []{n,} 연속된 ㅐㅍ턴이 n번 이상인 경우...\n",
    "print(findall('[0-9]{2,4}', str1))      # []{m,n} 연속된 패턴이 m번 이상 n번 이하인 경우 \n",
    "print(findall('\\\\d{3}', str1))          # 이스테이프 문자 사용\n",
    "\n",
    "# 문자열 찾기\n",
    "print(findall('[가-힣]{3,}', str1))     # 한글 패턴 검색....\n",
    "print(findall('[a-z]{3}', str1))\n",
    "print(findall('[a-z|A-Z]{3}', str1))    # \"|\"을 이용한 패턴\n",
    "\n",
    "str2 = 'test1abcABC 123mbc 45test'\n",
    "\n",
    "# 접두어/접미어\n",
    "print(findall('^test', str2))\n",
    "print(findall('st$',str2))\n",
    "\n",
    "# 종료 문자 찾기 : abc, mbc\n",
    "print(findall('.bc',str2))\n",
    "print(findall('[a,m]bc',str2))\n",
    "print(findall('[a-z]bc', str2))\n",
    "\n",
    "# 시작 문자 찾기\n",
    "print(findall('t.', str2))\n",
    "\n",
    "\n",
    "# 단어 찾기...\n",
    "str3 = 'test^홍길동 abc 대한+민국 123$tbc'\n",
    "word = findall('\\\\w{3,}', str3)\n",
    "print(word)\n",
    "\n",
    "# 문자열 제외 : x+ (x가 1개 이상 반복)\n",
    "findall('[^^*$]+',str3)     # ^,*,$ 특수문자 제외 : [^^*$]+ => ^,*,$가 1개 이상 존재하는 경우 제외"
   ]
  },
  {
   "cell_type": "code",
   "execution_count": 37,
   "metadata": {},
   "outputs": [
    {
     "name": "stdout",
     "output_type": "stream",
     "text": [
      "<re.Match object; span=(0, 14), match='123456-3234567'>\n",
      "주민번호 일치\n",
      "None\n",
      "잘못된 주민번호\n"
     ]
    }
   ],
   "source": [
    "## 문자열 검사 [match()]\n",
    "# 문자열 패턴과 일치하는 문자열이 존재하면 객체를 반환, 일치되지 않는 경우에는 None을 반환\n",
    "# 문자열 패턴과 일치여부를 검사하는 경우 사용.\n",
    "\n",
    "import re\n",
    "from re import match\n",
    "\n",
    "# 패턴과 일치하는 경우...\n",
    "jumin = '123456-3234567'\n",
    "result = match('[0-9]{6}-[1-4][0-9]{6}',jumin)\n",
    "print(result)\n",
    "\n",
    "if result:\n",
    "    print(\"주민번호 일치\")\n",
    "else:\n",
    "    print(\"잘못된 주민번호\")\n",
    "    \n",
    "jumin = '123456-5234567'\n",
    "\n",
    "result = match('[0-9]{6}-[1-4][0-9]{6}',jumin)\n",
    "print(result)\n",
    "\n",
    "if result:\n",
    "    print(\"주민번호 일치\")\n",
    "else:\n",
    "    print(\"잘못된 주민번호\")"
   ]
  },
  {
   "cell_type": "code",
   "execution_count": 67,
   "metadata": {},
   "outputs": [
    {
     "name": "stdout",
     "output_type": "stream",
     "text": [
      "test 홍길동 abc 대한+민국 123 tbc\n",
      "TEST 홍길동 abc 대한+민국 123 tbc\n",
      "TEST 홍길동 abc 대한+민국 123 tbc\n",
      "test 홍길동 abc 대한+민국  tbc\n"
     ]
    }
   ],
   "source": [
    "### 문자열 치환 : sub()\n",
    "# 패턴과 일치하는 문자열을 지정한 문자열로 치환하여 새로운 문자열을 반환.\n",
    "# 자연어를 대상으로 불필요한 용어에 해당하는 문장부호나 특수 문자를 제거할 때 사용.\n",
    "\n",
    "from re import sub\n",
    "\n",
    "str3 = 'test^홍길동 abc 대한+민국 123$tbc'\n",
    "\n",
    "# 특수문자 제거\n",
    "text1 = sub('[\\^*$]+',' ',str3)\n",
    "print(text1)\n",
    "\n",
    "## 연습... sub()\n",
    "# text1에 있는 문자열 중에 \"test\" ->TEST로 변경하세요.\n",
    "\n",
    "text2 = sub('test','TEST',text1)\n",
    "print(text2)\n",
    "\n",
    "text3 = sub('[a-z]{4}','TEST',text1)\n",
    "print(text3)\n",
    "\n",
    "sub(text1[0:4],'TEST',text1)\n",
    "\n",
    "## 숫자 제거\n",
    "text2 = sub('[0-9]','',text1)\n",
    "print(text2)\n"
   ]
  },
  {
   "cell_type": "code",
   "execution_count": 33,
   "metadata": {},
   "outputs": [
    {
     "name": "stdout",
     "output_type": "stream",
     "text": [
      "['kimsdoo@yna.co.kr', 'kimsdoo@yna.co.kr', 'handbrother@yna.co.kr', 'handbrother@yna.co.kr', 'toadboy@yna.co.kr', 'toadboy@yna.co.kr', 'sncwook@yna.co.kr', 'sncwook@yna.co.kr']\n"
     ]
    }
   ],
   "source": [
    "### https://news.v.daum.net/v/20220404120609031 기사에서 이메일 정보를 찾아서\n",
    "### 출력하는 문제....\n",
    "import urllib.request as rq\n",
    "from re import findall\n",
    "\n",
    "url = 'https://news.v.daum.net/v/20220404120609031'\n",
    "\n",
    "res = rq.urlopen(url)\n",
    "\n",
    "data = res.read()\n",
    "\n",
    "src = data.decode('utf-8')\n",
    "\n",
    "test1 = findall('\\\\w+@\\\\w+[-_.]?\\\\w+[-_.]?\\\\w+',src)\n",
    "\n",
    "print(test1)"
   ]
  },
  {
   "cell_type": "code",
   "execution_count": null,
   "metadata": {},
   "outputs": [],
   "source": []
  }
 ],
 "metadata": {
  "interpreter": {
   "hash": "b89b5cfaba6639976dc87ff2fec6d58faec662063367e2c229c520fe71072417"
  },
  "kernelspec": {
   "display_name": "Python 3.10.4 64-bit",
   "language": "python",
   "name": "python3"
  },
  "language_info": {
   "codemirror_mode": {
    "name": "ipython",
    "version": 3
   },
   "file_extension": ".py",
   "mimetype": "text/x-python",
   "name": "python",
   "nbconvert_exporter": "python",
   "pygments_lexer": "ipython3",
   "version": "3.10.4"
  },
  "orig_nbformat": 4
 },
 "nbformat": 4,
 "nbformat_minor": 2
}
