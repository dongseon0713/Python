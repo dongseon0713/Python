{
 "cells": [
  {
   "cell_type": "code",
   "execution_count": null,
   "metadata": {},
   "outputs": [],
   "source": [
    "## 웹 상태 정보 수집 방법\n",
    "# 파이썬에서는 urllib 모듈을 사용하여 정보 수집\n",
    "\n",
    "## urllib.request 모듈은 웹 사이트에 있는 데이터에 접근할 수 있는 기능을 제공.\n",
    "## 인증, 리다이렉트, 쿠키 처럼 인터넷을 이용한 다양한 요청과 처리를 지원함.\n",
    "\n",
    "# 파일을 다운로드 할 때 , urllib.request 모듈에 있는 urlretrieve()함수를 사용, 직접 다운로드 가능함"
   ]
  },
  {
   "cell_type": "code",
   "execution_count": null,
   "metadata": {},
   "outputs": [],
   "source": [
    "# 예시로 \n",
    "\n",
    "# 라이브러리\n",
    "import urllib.request\n",
    "\n",
    "# 접속 경로 및 저장 이름\n",
    "url = \"http://uta.pw/shodou/img/28/214.png\"\n",
    "savename= \"test_download.png\"\n",
    "\n",
    "# 다운로드\n",
    "urllib.request.urlretrieve(url,\"download\\\\\"+savename)"
   ]
  },
  {
   "cell_type": "code",
   "execution_count": null,
   "metadata": {},
   "outputs": [],
   "source": [
    "## 실습1\n",
    "# NAVER의 로고 다운 받기\n",
    "\n",
    "#라이브러리\n",
    "import urllib.request\n",
    "\n",
    "# 접속 경로 및 저장 이름\n",
    "url = \"http://s.pstatic.net/static/www/mobile/edit/20220503/mobile_20183742258.gif\"\n",
    "savename = \"test_download.gif\"\n",
    "\n",
    "# 다운로드\n",
    "urllib.request.urlretrieve(url,\"download\\\\\"+savename)"
   ]
  },
  {
   "cell_type": "code",
   "execution_count": 9,
   "metadata": {},
   "outputs": [],
   "source": [
    "## 실습2\n",
    "# Naver로고 다운받기... open을 이용한 다운로드\n",
    "# 저장 파일명... naver_log_open_use.확장자\n",
    "\n",
    "# 라이브러리 임포트\n",
    "import urllib.request\n",
    "\n",
    "# 경로 및 저장 이름\n",
    "url = \"http://s.pstatic.net/static/www/mobile/edit/20220503/mobile_20183742258.gif\"\n",
    "savename = \"naver_logo_open_use.gif\"\n",
    "\n",
    "# urlopen을 이용하여 데이터를 저장(버퍼)\n",
    "iread = urllib.request.urlopen(url).read()\n",
    "\n",
    "# 저장된 내용을 open을 이용하여 저장(binary값으로 처리 : b)\n",
    "wread = open(\"download\\\\\"+savename, \"wb\")\n",
    "wread.write(iread)\n",
    "wread.close()"
   ]
  },
  {
   "cell_type": "code",
   "execution_count": null,
   "metadata": {},
   "outputs": [],
   "source": [
    "### API 접속\n",
    "\n",
    "# 라이브러리 임포트\n",
    "import urllib.request\n",
    "\n",
    "# 데이터 읽기\n",
    "url = \"https://api.aoikujira.com/ip/ini\"\n",
    "res = urllib.request.urlopen(url)\n",
    "data = res.read()\n",
    "\n",
    "# 디코더를 사용하여 바이너리값을 문자열로 변환\n",
    "text = data.decode(\"utf-8\")\n",
    "print(text)\n"
   ]
  },
  {
   "cell_type": "code",
   "execution_count": null,
   "metadata": {},
   "outputs": [],
   "source": [
    "### 기상청 RSS : http://www.kma.go.kr/weather/forecast/mid-term-rss3.jsp\n",
    "## 매개변수 : stnId - 기상 정보를 알고 싶은 지역을 지정\n",
    "\n",
    "## 전국 - 108       서울,경기 - 109     강원도 - 105    충청북도 - 131  \n",
    "## 충청남도 - 133   전라북도 - 146      전라남도 - 156  경상북도 - 143\n",
    "## 경상남도 - 159   제주도 - 184\n",
    "\n",
    "import urllib.request\n",
    "import urllib.parse\n",
    "\n",
    "API = \"https://www.kma.go.kr/weather/forecast/mid-term-rss3.jsp\"\n",
    "\n",
    "# 매개변수를 URL 인코딩\n",
    "values = {\n",
    "    \"stnId\" : \"184\"\n",
    "}\n",
    "\n",
    "params = urllib.parse.urlencode(values)\n",
    "print(params)\n",
    "\n",
    "url = API + \"?\" + params\n",
    "\n",
    "# 다운로드\n",
    "data = urllib.request.urlopen(url).read()\n",
    "text = data.decode(\"utf-8\")\n",
    "\n",
    "print(text)"
   ]
  },
  {
   "cell_type": "code",
   "execution_count": null,
   "metadata": {},
   "outputs": [],
   "source": [
    "## 입력값(지역번호)을받아서 해당 지역의 날씨정보를 받아오세요...\n",
    "\n",
    "import urllib.request\n",
    "import urllib.parse\n",
    "\n",
    "API = \"https://www.kma.go.kr/weather/forecast/mid-term-rss3.jsp\"\n",
    "\n",
    "# 매개변수를 URL 인코딩\n",
    "num = input(\"지역번호를 입력하세요 : \")\n",
    "values = {\n",
    "    \"stnId\" : num\n",
    "}\n",
    "\n",
    "params = urllib.parse.urlencode(values)\n",
    "print(params)\n",
    "\n",
    "url = API + \"?\" + params\n",
    "\n",
    "# 다운로드\n",
    "data = urllib.request.urlopen(url).read()\n",
    "text = data.decode(\"utf-8\")\n",
    "\n",
    "print(text)"
   ]
  },
  {
   "cell_type": "code",
   "execution_count": 24,
   "metadata": {},
   "outputs": [
    {
     "name": "stderr",
     "output_type": "stream",
     "text": [
      "C:\\Users\\a0104\\AppData\\Local\\Temp\\ipykernel_28560\\2769135375.py:15: DeprecationWarning: executable_path has been deprecated, please pass in a Service object\n",
      "  driver = webdriver.Chrome(path)\n"
     ]
    }
   ],
   "source": [
    "### selenium 사용하기\n",
    "#1. 모듈 설치하기\n",
    "# pip install selenium\n",
    "\n",
    "#2. web드라이버 다운로드(크롬)\n",
    "# http:/chromedriver.chromium.org/downloads\n",
    "\n",
    "#3. 제어...\n",
    "\n",
    "#라이브러리\n",
    "import selenium\n",
    "from selenium import webdriver\n",
    "\n",
    "path = \"C:\\\\webdriver\\\\chromedriver\"\n",
    "driver = webdriver.Chrome(path)\n",
    "\n"
   ]
  },
  {
   "cell_type": "code",
   "execution_count": 40,
   "metadata": {},
   "outputs": [],
   "source": [
    "driver.get(\"https://www.daum.net\")"
   ]
  },
  {
   "cell_type": "code",
   "execution_count": 43,
   "metadata": {},
   "outputs": [
    {
     "name": "stderr",
     "output_type": "stream",
     "text": [
      "C:\\Users\\a0104\\AppData\\Local\\Temp\\ipykernel_28560\\2220777573.py:1: DeprecationWarning: find_elements_by_class_name is deprecated. Please use find_elements(by=By.CLASS_NAME, value=name) instead\n",
      "  elements = driver.find_elements_by_class_name(\"link_txt\")\n"
     ]
    }
   ],
   "source": [
    "elements = driver.find_elements_by_class_name(\"link_txt\")"
   ]
  },
  {
   "cell_type": "code",
   "execution_count": 44,
   "metadata": {},
   "outputs": [
    {
     "name": "stdout",
     "output_type": "stream",
     "text": [
      "이은해, 남편 9년간 가스라이팅.. 보험금 노려 직접 살해\n",
      "尹취임식 이재용·박보경 사회..취준위, 6일 최종브리핑\n",
      "\"속옷 검사 받으며 쓰레기라 불려\"..우크라 생존자들 증언\n",
      "'버티기' 정호영..민주당 \"버텨줄수록 땡큐\", 국민의힘 \"여론 지켜봐야\"\n",
      "\"해임 건의받은 사람이 후보자 됐다.. 아이러니\"\n",
      "자유총연맹 前총재 \"김부겸, 내게 화끈히 사퇴하라 요구\"\n",
      "'이 음식' 즐기면, 대사증후군 위험 25% 뚝\n",
      "총리도 탄식한 검찰의 '99만원 불기소세트'..사과한다던 尹은?\n",
      "천연가스 가격 폭등 '곱버스' 상폐 직면..조기청산 들어간다\n",
      "이종호 장관 후보자, 최근 5년간 1억5000여만원 기부\n",
      "이재명 인천계양을 출마 요구 급속 확산..당내 찬·반 비등, 비대위는 막판 '검토'\n",
      "文,퇴임 닷새 전까지 언론탓..\"취사선택해 보도할 뿐, 편향적\"\n",
      "\"프린터로 인쇄했나\"..400만원 스튜디오 사진 찍은 가족 '분통'\n",
      "민주당, 다음 목표는 '중수청법'..하지만 尹거부권 등 상황이 달라졌다\n",
      "3주 만에 검수완박 '뚝딱'..사회 곳곳서 '집단 반발'\n",
      "\n",
      "\n",
      "\n",
      "\n",
      "\n",
      "\n",
      "\n",
      "\n",
      "\n",
      "\n",
      "\n",
      "\n",
      "\n",
      "\n",
      "\n",
      "\n",
      "\n",
      "\n",
      "\n",
      "\n",
      "\n",
      "\n",
      "\n",
      "\n",
      "\n",
      "\n",
      "\n",
      "\n",
      "\n",
      "\n",
      "\n",
      "\n",
      "\n",
      "\n",
      "\n",
      "\n",
      "\n",
      "\n",
      "\n",
      "\n",
      "\n",
      "\n",
      "\n",
      "\n",
      "\n",
      "\n",
      "\n",
      "\n",
      "\n",
      "\n"
     ]
    }
   ],
   "source": [
    "for element in elements:\n",
    "    print(element.text)"
   ]
  },
  {
   "cell_type": "code",
   "execution_count": 39,
   "metadata": {},
   "outputs": [
    {
     "name": "stderr",
     "output_type": "stream",
     "text": [
      "C:\\Users\\a0104\\AppData\\Local\\Temp\\ipykernel_28560\\4062261919.py:1: DeprecationWarning: find_element_by_class_name is deprecated. Please use find_element(by=By.CLASS_NAME, value=name) instead\n",
      "  driver.find_element_by_class_name(\"link_login\").click()\n"
     ]
    }
   ],
   "source": [
    "driver.find_element_by_class_name(\"link_login\").click()\n"
   ]
  }
 ],
 "metadata": {
  "interpreter": {
   "hash": "b89b5cfaba6639976dc87ff2fec6d58faec662063367e2c229c520fe71072417"
  },
  "kernelspec": {
   "display_name": "Python 3.10.3 64-bit",
   "language": "python",
   "name": "python3"
  },
  "language_info": {
   "codemirror_mode": {
    "name": "ipython",
    "version": 3
   },
   "file_extension": ".py",
   "mimetype": "text/x-python",
   "name": "python",
   "nbconvert_exporter": "python",
   "pygments_lexer": "ipython3",
   "version": "3.10.3"
  },
  "orig_nbformat": 4
 },
 "nbformat": 4,
 "nbformat_minor": 2
}
