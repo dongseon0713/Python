{
 "cells": [
  {
   "cell_type": "code",
   "execution_count": 9,
   "metadata": {},
   "outputs": [
    {
     "name": "stdout",
     "output_type": "stream",
     "text": [
      "문자 내용 : \n",
      " ['programming is fun', 'very fun!', 'have a good time', 'mouse is input device', 'keyboard is input device', 'computer is input output system']\n",
      "문장 수 :  6\n",
      "단어 내용 : \n",
      " ['programming', 'is', 'fun', 'very', 'fun!', 'have', 'a', 'good', 'time', 'mouse', 'is', 'input', 'device', 'keyboard', 'is', 'input', 'device', 'computer', 'is', 'input', 'output', 'system']\n",
      "단어 수 :  22\n"
     ]
    }
   ],
   "source": [
    "## 8장 문제 1번\n",
    "file = open('data/ftest.txt','r')\n",
    "lines = file.readlines()\n",
    "docs = []\n",
    "words = []\n",
    "for line in lines:\n",
    "    docs.append(line.strip())\n",
    "    for word in line.split():\n",
    "        words.append(word)\n",
    "        \n",
    "print('문자 내용 : \\n',docs)\n",
    "print('문장 수 : ',len(docs))\n",
    "print('단어 내용 : \\n',words)\n",
    "print('단어 수 : ',len(words))\n"
   ]
  },
  {
   "cell_type": "code",
   "execution_count": 17,
   "metadata": {},
   "outputs": [
    {
     "name": "stdout",
     "output_type": "stream",
     "text": [
      "<bound method DataFrame.info of     No Name  Pay\n",
      "0  101  홍길동  150\n",
      "1  102  이순신  450\n",
      "2  103  강감찬  500\n",
      "3  104  유관순  350\n",
      "4  105  김유신  400>\n",
      "관측치 길이 :  5\n",
      "전체 평균 급여 :  370\n",
      "최저 급여 : 150. 이름 : 홍길동\n",
      "최고 급여 : 500. 이름 : 강감찬\n"
     ]
    }
   ],
   "source": [
    "## 8장 문제 2번\n",
    "import pandas as pd\n",
    "\n",
    "# 1. file read\n",
    "emp = pd.read_csv('data/emp.csv',encoding='utf8')\n",
    "print(emp.info)\n",
    "\n",
    "print('관측치 길이 : ',len(emp))\n",
    "from statistics import mean\n",
    "print('전체 평균 급여 : ',mean(emp.Pay))\n",
    "for i in range(len(emp)):\n",
    "    if emp.Pay[i] == min(emp.Pay):\n",
    "        print('최저 급여 : {}. 이름 : {}'.format(min(emp.Pay),emp.Name[i]))\n",
    "    if emp.Pay[i] == max(emp.Pay):\n",
    "        print('최고 급여 : {}. 이름 : {}'.format(max(emp.Pay),emp.Name[i]))\n",
    "        "
   ]
  },
  {
   "cell_type": "code",
   "execution_count": null,
   "metadata": {},
   "outputs": [],
   "source": []
  }
 ],
 "metadata": {
  "interpreter": {
   "hash": "b89b5cfaba6639976dc87ff2fec6d58faec662063367e2c229c520fe71072417"
  },
  "kernelspec": {
   "display_name": "Python 3.10.4 64-bit",
   "language": "python",
   "name": "python3"
  },
  "language_info": {
   "codemirror_mode": {
    "name": "ipython",
    "version": 3
   },
   "file_extension": ".py",
   "mimetype": "text/x-python",
   "name": "python",
   "nbconvert_exporter": "python",
   "pygments_lexer": "ipython3",
   "version": "3.10.4"
  },
  "orig_nbformat": 4
 },
 "nbformat": 4,
 "nbformat_minor": 2
}
