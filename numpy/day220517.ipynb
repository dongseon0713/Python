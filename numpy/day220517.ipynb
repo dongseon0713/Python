{
 "cells": [
  {
   "cell_type": "code",
   "execution_count": 3,
   "metadata": {},
   "outputs": [
    {
     "name": "stdout",
     "output_type": "stream",
     "text": [
      "[1 2 3]\n"
     ]
    }
   ],
   "source": [
    "### NumPy\n",
    "# 고성능 수치 계산을 위해서 제작된 파이썬 라이브러리\n",
    "# 머신러닝 또는 딥러닝 알고리즘은 기본적으로 다차원 배열에 대한 계산으로 볼 수 있음. \n",
    "# 또는 대량의 데이터를 다룰 때 빠른 계산 능력이 요구되어 사용되는 라이브러리\n",
    "\n",
    "# 생성된 NumPy 확인 - NumPy의 핵심객체(Ndarray) \n",
    "import numpy as np\n",
    "\n",
    "temp = np.array([1,2,3])\n",
    "\n",
    "print(temp)\n",
    "\n",
    "## 튜토리얼 : https://numpy.org/doc/stable/user/quickstart.html"
   ]
  },
  {
   "cell_type": "code",
   "execution_count": 14,
   "metadata": {},
   "outputs": [
    {
     "name": "stdout",
     "output_type": "stream",
     "text": [
      "[1 2 3]\n",
      "(3,)\n",
      "[1 1 2 2 3 4]\n",
      "(6,)\n",
      "int32\n"
     ]
    }
   ],
   "source": [
    "# NumPy 기본 문법\n",
    "\n",
    "# - list\n",
    "data1 = [1,2,3]\n",
    "data1\n",
    "\n",
    "data2 = [1,1,2,2,3,4]\n",
    "data2\n",
    "\n",
    "# np.array으로 배열 변환\n",
    "my_array1 = np.array(data1)\n",
    "print(my_array1)\n",
    "print(my_array1.shape)\n",
    "\n",
    "my_array2 = np.array(data2)\n",
    "print(my_array2)\n",
    "print(my_array2.shape)\n",
    "\n",
    "# shape는 크기를 확인하는 함수\n",
    "\n",
    "## 리스트 선언 없이 바로 np.array로 사용\n",
    "my_array3 = np.array([3,4,5,12])\n",
    "print(my_array3.dtype)\n",
    "\n",
    "## Data Types 참조 : https://numpy.org/devdocs/user/basics.types.html"
   ]
  },
  {
   "cell_type": "code",
   "execution_count": 16,
   "metadata": {},
   "outputs": [
    {
     "data": {
      "text/plain": [
       "(4, 3)"
      ]
     },
     "execution_count": 16,
     "metadata": {},
     "output_type": "execute_result"
    }
   ],
   "source": [
    "### 2차 배열\n",
    "my_array4 = np.array([[2,4,6],[8,10,12],[14,16,18],[20,22,24]])\n",
    "my_array4\n",
    "my_array4.shape # (4,3)의 형태"
   ]
  },
  {
   "cell_type": "code",
   "execution_count": 22,
   "metadata": {},
   "outputs": [
    {
     "data": {
      "text/plain": [
       "array([[[1, 2],\n",
       "        [3, 4]],\n",
       "\n",
       "       [[5, 6],\n",
       "        [7, 8]]])"
      ]
     },
     "execution_count": 22,
     "metadata": {},
     "output_type": "execute_result"
    }
   ],
   "source": [
    "### 3차 배열\n",
    "my_array5 = np.array([[[1,2],[3,4]],[[5,6],[7,8]]])\n",
    "my_array5\n",
    "my_array5"
   ]
  },
  {
   "cell_type": "code",
   "execution_count": 34,
   "metadata": {},
   "outputs": [
    {
     "name": "stdout",
     "output_type": "stream",
     "text": [
      "[0 1 2 3 4]\n",
      "[1 4 7]\n"
     ]
    },
    {
     "data": {
      "text/plain": [
       "dtype('int32')"
      ]
     },
     "execution_count": 34,
     "metadata": {},
     "output_type": "execute_result"
    }
   ],
   "source": [
    "### NumPy 배열 생성 및 둘러보기\n",
    "# Arange : 기본 함수 중에 Range함수와 조금 유사하며, 더욱 쉽게 배열을 만들게 함. \n",
    "arrange_array = np.arange(5)\n",
    "print(arrange_array)\n",
    "\n",
    "arrange_array = np.arange(1, 9, 3) # 시작값, 종료값, 증감값 순으로 설정\n",
    "print(arrange_array)\n",
    "arrange_array.dtype\n"
   ]
  },
  {
   "cell_type": "code",
   "execution_count": 39,
   "metadata": {},
   "outputs": [
    {
     "name": "stdout",
     "output_type": "stream",
     "text": [
      "[[0. 0.]\n",
      " [0. 0.]\n",
      " [0. 0.]]\n",
      "Data Type is :  float64\n",
      "Data Shape is :  (3, 2)\n"
     ]
    }
   ],
   "source": [
    "### Zeros, Ones \n",
    "# 할당하는 사이즈 배열에 0 이나 1을 더욱 쉽게 입력하는 함수\n",
    "zeros_arr = np.zeros((3,2))\n",
    "print(zeros_arr)\n",
    "print(\"Data Type is : \",zeros_arr.dtype)\n",
    "print(\"Data Shape is : \", zeros_arr.shape)"
   ]
  },
  {
   "cell_type": "code",
   "execution_count": 40,
   "metadata": {},
   "outputs": [
    {
     "name": "stdout",
     "output_type": "stream",
     "text": [
      "[[1 1 1 1]\n",
      " [1 1 1 1]\n",
      " [1 1 1 1]]\n",
      "Data Type is :  int32\n",
      "Data Shape is :  (3, 4)\n"
     ]
    }
   ],
   "source": [
    "ones_arr = np.ones((3,4),dtype=\"int32\")\n",
    "print(ones_arr)\n",
    "print(\"Data Type is : \",ones_arr.dtype)\n",
    "print(\"Data Shape is : \", ones_arr.shape)"
   ]
  },
  {
   "cell_type": "code",
   "execution_count": 47,
   "metadata": {},
   "outputs": [
    {
     "name": "stdout",
     "output_type": "stream",
     "text": [
      "[[1 1]\n",
      " [1 1]\n",
      " [1 1]\n",
      " [1 1]\n",
      " [1 1]\n",
      " [1 1]]\n",
      "Data Shape is :  (6, 2)\n",
      "[[[1 1]\n",
      "  [1 1]\n",
      "  [1 1]]\n",
      "\n",
      " [[1 1]\n",
      "  [1 1]\n",
      "  [1 1]]]\n",
      "[[[1 1]\n",
      "  [1 1]]\n",
      "\n",
      " [[1 1]\n",
      "  [1 1]]\n",
      "\n",
      " [[1 1]\n",
      "  [1 1]]]\n",
      "[[[1 1 1]\n",
      "  [1 1 1]]\n",
      "\n",
      " [[1 1 1]\n",
      "  [1 1 1]]]\n"
     ]
    }
   ],
   "source": [
    "## Reshape\n",
    "after_reshape = ones_arr.reshape(6,2)\n",
    "print(after_reshape)\n",
    "print(\"Data Shape is : \", after_reshape.shape)\n",
    "\n",
    "## 항상 변경이 가능하지는 않다. 조건은 Size가 동일해야 한다.\n",
    "# ones_arr를 다른 사이즈 변경해보세요. 3가지정도\n",
    "ones_arr2 = ones_arr.reshape(2,3,2)\n",
    "print(ones_arr2)\n",
    "ones_arr3 = ones_arr.reshape(3,2,2)\n",
    "print(ones_arr3)\n",
    "ones_arr4 = ones_arr.reshape(2,2,3)\n",
    "print(ones_arr4)"
   ]
  },
  {
   "cell_type": "code",
   "execution_count": 52,
   "metadata": {},
   "outputs": [
    {
     "name": "stdout",
     "output_type": "stream",
     "text": [
      "[[1 1 1 1]\n",
      " [1 1 1 1]\n",
      " [1 1 1 1]]\n"
     ]
    }
   ],
   "source": [
    "### reshape()에서 -1의 의미는 ? 차원을 자동으로 계산한다는 의미\n",
    "after_reshape4 = ones_arr.reshape(3,-1)\n",
    "print(after_reshape4)"
   ]
  },
  {
   "cell_type": "code",
   "execution_count": 55,
   "metadata": {},
   "outputs": [
    {
     "name": "stdout",
     "output_type": "stream",
     "text": [
      "[0 1 2 3]\n",
      "my_array의 1번째 요소, 즉 0번인 것은 :  0\n",
      "my_array[0:3] :  [0 1 2]\n",
      "my_array[0:] :  [0 1 2 3]\n",
      "my_array[0:2] :  [0 1]\n",
      "my_array[:] :  [0 1 2 3]\n",
      "my_array[0:-1] :  [0 1 2]\n"
     ]
    }
   ],
   "source": [
    "### NumPy 인덱싱과 슬라이싱\n",
    "my_array = np.arange(0, 4)\n",
    "print(my_array)\n",
    "\n",
    "print(\"my_array의 1번째 요소, 즉 0번인 것은 : \",my_array[0])\n",
    "print(\"my_array[0:3] : \", my_array[0:3])\n",
    "print(\"my_array[0:] : \", my_array[0:])\n",
    "print(\"my_array[0:2] : \", my_array[0:2])\n",
    "print(\"my_array[:] : \", my_array[:])\n",
    "print(\"my_array[0:-1] : \", my_array[0:-1])\n",
    "\n"
   ]
  },
  {
   "cell_type": "code",
   "execution_count": 68,
   "metadata": {},
   "outputs": [
    {
     "name": "stdout",
     "output_type": "stream",
     "text": [
      "[[ 2  4  6  8 10 12 14 16 18]\n",
      " [ 3  6  9 12 15 18 21 24 27]\n",
      " [ 4  8 12 16 20 24 28 32 36]\n",
      " [ 5 10 15 20 25 30 35 40 45]]\n",
      "(4, 9)\n",
      "[[2 4]\n",
      " [3 6]]\n",
      "[[ 3  6  9 12 15 18 21 24 27]\n",
      " [ 4  8 12 16 20 24 28 32 36]]\n"
     ]
    }
   ],
   "source": [
    "my_array2 = np.array(\n",
    "    [\n",
    "    [2,4,6,8,10,12,14,16,18],\n",
    "    [3,6,9,12,15,18,21,24,27],\n",
    "    [4,8,12,16,20,24,28,32,36],\n",
    "    [5,10,15,20,25,30,35,40,45],\n",
    "    ]\n",
    ")\n",
    "\n",
    "print(my_array2)\n",
    "print(my_array2.shape)\n",
    "print(my_array2[0:2, 0:2])\n",
    "print(my_array2[1:3, :])\n"
   ]
  },
  {
   "cell_type": "code",
   "execution_count": 73,
   "metadata": {},
   "outputs": [
    {
     "name": "stdout",
     "output_type": "stream",
     "text": [
      "Height Matrix :  [174 165 182 180 168]\n",
      "np.sort() Matrix :  [165 168 174 180 182]\n",
      "np.sort()[::-] :  [182 180 174 168 165]\n"
     ]
    }
   ],
   "source": [
    "### NumPy정렬 : sort(), argsort()\n",
    "\n",
    "## np.sort()\n",
    "height_arr = np.array([174, 165, 182, 180, 168])\n",
    "sorted_height_arr = np.sort(height_arr)\n",
    "print(\"Height Matrix : \",height_arr)\n",
    "print(\"np.sort() Matrix : \", sorted_height_arr)\n",
    "\n",
    "# 내림차순 정렬\n",
    "desc_sorted_height_arr = np.sort(height_arr)[::-1]\n",
    "print(\"np.sort()[::-] : \", desc_sorted_height_arr)\n"
   ]
  },
  {
   "cell_type": "code",
   "execution_count": 78,
   "metadata": {},
   "outputs": [
    {
     "name": "stdout",
     "output_type": "stream",
     "text": [
      "original data :  [10  5 15 20]\n",
      "argsort() :  [1 0 2 3]\n",
      "Ascending :  [20 15 10  5]\n"
     ]
    }
   ],
   "source": [
    "### argsort()\n",
    "# numpy.argsort() 함수는 지정된 축을 따라 데이터 인덱스의 배열을 반환하도록 지정된 종류의 정렬을 사용해\n",
    "# 입력 배열에서 간접 정렬을 수행함.\n",
    "\n",
    "fives = np.array([10,5,15,20])\n",
    "fives_order = fives.argsort()\n",
    "\n",
    "print(\"original data : \", fives)\n",
    "print(\"argsort() : \", fives_order)      # 인덱싱 값 반환\n",
    "print(\"Ascending : \", fives[fives_order])\n",
    "\n",
    "# NumPyTutorials : https://numpy.org/learn/\n",
    "# NumPy Broadcasting : https://numpy.org/doc/stable/user/basics.broadcasting.html\n",
    "# 숙제... 같은 크기의 두 배열에 대한 연산과 서로 크기가 다른 두 배열의 연산을 공부하세요."
   ]
  },
  {
   "cell_type": "code",
   "execution_count": null,
   "metadata": {},
   "outputs": [],
   "source": []
  },
  {
   "cell_type": "code",
   "execution_count": null,
   "metadata": {},
   "outputs": [],
   "source": []
  },
  {
   "cell_type": "code",
   "execution_count": null,
   "metadata": {},
   "outputs": [],
   "source": []
  },
  {
   "cell_type": "code",
   "execution_count": null,
   "metadata": {},
   "outputs": [],
   "source": []
  }
 ],
 "metadata": {
  "interpreter": {
   "hash": "26de051ba29f2982a8de78e945f0abaf191376122a1563185a90213a26c5da77"
  },
  "kernelspec": {
   "display_name": "Python 3.10.4 64-bit",
   "language": "python",
   "name": "python3"
  },
  "language_info": {
   "codemirror_mode": {
    "name": "ipython",
    "version": 3
   },
   "file_extension": ".py",
   "mimetype": "text/x-python",
   "name": "python",
   "nbconvert_exporter": "python",
   "pygments_lexer": "ipython3",
   "version": "3.10.4"
  },
  "orig_nbformat": 4
 },
 "nbformat": 4,
 "nbformat_minor": 2
}
