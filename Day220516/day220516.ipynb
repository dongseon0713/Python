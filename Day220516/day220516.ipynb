{
 "cells": [
  {
   "cell_type": "code",
   "execution_count": null,
   "metadata": {},
   "outputs": [],
   "source": [
    "## Selenium을 통해서 DOM요소 추출\n",
    "## 메서드\n",
    "\n",
    "# 여러개 중에 처음 요소를 추출\n",
    "# find_element_by_id(id)    : id 속성으로 요소를 하나 추출\n",
    "# find_element_by_name(name)    : name속성으로 요소를 하나 추출\n",
    "# find_element_by_css_selector(query)   : css선택자로 요소를 하나 추출\n",
    "# find_element_by_xpath(query)  : Xpath를 지정해 요소를 하나 추출\n",
    "# fine_element_by_tag_name(name)    : 태그 이름에 해당하는 요소를 하나 추출\n",
    "# find_element_by_link_text(text)   : 링크 텍스트로 요소를 하나 추출\n",
    "# find_element_by_partial_link_text(text)   : 링크의 자식 요소에 포함되어 있는 텍스트 요소를 하나 추출\n",
    "# find_element_by_class_name(name)  : 클래스 이름에 해당하는 요소를 하나 추출\n",
    "\n",
    "# 모든 요소를 추출\n",
    "# find_elements_by_css_selector(query)   : css선택자로 모든 요소를 추출\n",
    "# find_element_by_xpath(query)  : Xpath를 지정해 모든 요소를 추출\n",
    "# fine_element_by_tag_name(name)    : 태그 이름에 해당하는 모든 요소를 추출\n",
    "# find_element_by_link_text(text)   : 링크 텍스트로 모든 요소를 추출\n",
    "# find_element_by_partial_link_text(text)   : 링크의 자식 요소에 포함되어 있는 모든 텍스트 요소를 추출\n",
    "\n",
    "# NoSuchElementException 이라는 찾고자하는 요소가 없는 경우에 발생함."
   ]
  },
  {
   "cell_type": "code",
   "execution_count": 10,
   "metadata": {},
   "outputs": [
    {
     "name": "stderr",
     "output_type": "stream",
     "text": [
      "C:\\Users\\a0104\\AppData\\Local\\Temp\\ipykernel_8820\\2317567096.py:5: DeprecationWarning: executable_path has been deprecated, please pass in a Service object\n",
      "  driver = webdriver.Chrome(path)\n",
      "C:\\Users\\a0104\\AppData\\Local\\Temp\\ipykernel_8820\\2317567096.py:10: DeprecationWarning: find_elements_by_class_name is deprecated. Please use find_elements(by=By.CLASS_NAME, value=name) instead\n",
      "  elements = driver.find_elements_by_class_name(\"cluster_text_headline\")\n"
     ]
    },
    {
     "name": "stdout",
     "output_type": "stream",
     "text": [
      "“나랑 모텔가자”... 승무원 쫓아 집까지 따라간 60대 집행유예\n",
      "\"나랑 xx가자\"…승무원 쫒아서 공항부터 집까지 따라간 60대\n",
      "공항서 승무원 집까지 쫓아가 \"모텔 가자\" 60대 징역 1년\n",
      "\"모텔 가자\"며 승무원 집까지 쫓아가…집행유예에 벌금 5만원\n",
      "전북도 청년마을 만들기 공모 선정... 청년, 지역활력 꿈꾼다\n",
      "지방의 미래, 청년 손에 달렸다\n",
      "김영록 \"전남 청년문화센터 건립 등 청년 정책 확대\"\n",
      "경기도일자리재단, 경기 청년 일자리 협업단과 의정부시 청년공간 현장간담회 열어\n",
      "거제 선자산 인근서 3명 탄 헬기 추락…소방당국, 구조 중\n",
      "[속보]거제에서 3명 탑승 추정 헬기 추락…\"인명피해 확인 중\"\n",
      "거제 선자산 정상에 화물 수송용 헬기 추락…탑승객 3명 중상(2보)\n",
      "[속보] 경남 거제 선자산에 화물운송 헬기 추락 … 3명 탑승 추정\n",
      "빈손 수사는 인력 부족 탓? 공수처장 “인력 부족 문제 해결되길”\n",
      "‘고발사주’ 선거법 위반 쟁점…검찰 넘긴 김웅 수사도 주목\n",
      "김진욱 “공수처 인력 부족 문제 정말 심각”… 미숙한 모습에 거듭 사과\n",
      "김진욱 공수처장 \"미숙함 송구…권력기관 견제 대의명분은 유효\"\n",
      "사직서 낸 한동훈 \"광기 가까운 린치 당해…팩트·상식으로 싸웠다\"\n",
      "'검사' 옷 벗는 한동훈 \"광기의 린치에 상식으로 싸웠다\"\n",
      "아동학대범 잇따라 취업제한 기각…\"피해아동 보호자 아니라서\"\n",
      "아동 기관 취업제한 없는 아동학대범‥ \"처벌법 사각지대\"\n",
      "부산시, 지역 선도할 '스타소상공인' 발굴 나선다\n",
      "부산경제진흥원, 지역 대표 스타 소상공인 발굴\n",
      "\"이근, 부상으로 군병원 이송됐다\"…우크라서 맡은 임무 보니\n",
      "이근 측 \"특수정찰 임무 지휘 중 부상…軍병원 입원\"\n",
      "\n",
      "\n",
      "\n",
      "\n",
      "\n",
      "\n",
      "\n",
      "\n",
      "\n",
      "\n",
      "\n",
      "\n",
      "\n",
      "\n",
      "\n",
      "\n",
      "고1 중간고사 후 이어지는 '자퇴행렬'… 딱 한 가지만 필요한 세상 [아이들은 나의 스승]\n",
      "여느 고등학교에서 상상할 수 없는 '민주광장', 아우성이 터졌다 [아이들은 나의 스승]\n",
      "시험중 '출처' 단어 뜻 묻는 고교생… 코로나가 바꿔놓은 일상 [아이들은 나의 스승]\n",
      "서서 잠든 아이… 이 '착한' 아이들을 어찌해야 하나 [아이들은 나의 스승]\n",
      "<class 'list'>\n",
      "4\n",
      "“나랑 모텔가자”... 승무원 쫓아 집까지 따라간 60대 집행유예\n",
      "처음 본 항공사 승무원을 쫓아 집까지 따라가 불안감을 조성한 60대 남성에게 징역형의 집행유예가 선고됐다. 창원지법 형사7단독 이지희 판사는 경범죄처벌법 …\n",
      "조선일보 100\n",
      "이상\n",
      "+\n",
      "----------------------------------------------------------------------------------------------------\n",
      "머니투데이 200\n",
      "이상\n",
      "+\n",
      "\"나랑 xx가자\"…승무원 쫒아서 공항부터 집까지 따라간 60대\n",
      "----------------------------------------------------------------------------------------------------\n",
      "한국일보 100\n",
      "이상\n",
      "+\n",
      "공항서 승무원 집까지 쫓아가 \"모텔 가자\" 60대 징역 1년\n",
      "----------------------------------------------------------------------------------------------------\n",
      "매일경제 50\n",
      "이상\n",
      "+\n",
      "\"모텔 가자\"며 승무원 집까지 쫓아가…집행유예에 벌금 5만원\n",
      "----------------------------------------------------------------------------------------------------\n"
     ]
    },
    {
     "name": "stderr",
     "output_type": "stream",
     "text": [
      "C:\\Users\\a0104\\AppData\\Local\\Temp\\ipykernel_8820\\2317567096.py:21: DeprecationWarning: find_elements_by_css_selector is deprecated. Please use find_elements(by=By.CSS_SELECTOR, value=css_selector) instead\n",
      "  test = driver.find_elements_by_css_selector(ulsel)\n"
     ]
    }
   ],
   "source": [
    "## 네이버 헤드라인 기사 크롤링하기\n",
    "from selenium import webdriver\n",
    "\n",
    "path = \"C:\\\\webdriver\\\\chromedriver\"\n",
    "driver = webdriver.Chrome(path)\n",
    "\n",
    "url = \"https://news.naver.com/main/main.naver?mode=LSD&mid=shm&sid1=102\"\n",
    "driver.get(url)\n",
    "\n",
    "elements = driver.find_elements_by_class_name(\"cluster_text_headline\")\n",
    "\n",
    "for element in elements:\n",
    "    print(element.text)\n",
    "    \n",
    "# or\n",
    "\n",
    "ulsel = \"#main_content > div > div._persist > div:nth-child(1) > div:nth-child(1) > div.cluster_body > ul > li\"\n",
    "sel1 = \"#main_content > div > div._persist > div:nth-child(1) > div:nth-child(1) > div.cluster_body > ul > li:nth-child(1) > div.cluster_text > a\"\n",
    "sel2 = \"#main_content > div > div._persist > div:nth-child(1) > div:nth-child(1) > div.cluster_body > ul > li:nth-child(2) > div > a\"\n",
    "sel3 = \"#main_content > div > div._persist > div:nth-child(1) > div:nth-child(1) > div.cluster_body > ul > li:nth-child(3) > div > a\"\n",
    "test = driver.find_elements_by_css_selector(ulsel)\n",
    "print(type(test))\n",
    "print(len(test))\n",
    "\n",
    "for i in test:\n",
    "    print(i.text)\n",
    "    print(\"-\"*100)\n",
    "    \n",
    "test2 = driver.find_element_by_css_selector(\"#main_content > div > div._persist > div:nth-child(1) > div:nth-child(1) > div.cluster_body > ul > li:nth-child(1) > div > a\")\n",
    "test2.text\n",
    "\n",
    "ul = \"#main_content > div > div._persist > div:nth-child(1) > div:nth-child(1) > div.cluster_body > ul\"\n",
    "#  > li:nth-child(1) > div.cluster_text > a\"\n",
    "for i in range(1,len(test+1)):\n",
    "    head = driver.find_element_by_css_selector(ul+f\"> li:nth-child({i}) > div.cluster_text > a\")\n",
    "    print(head.text)"
   ]
  },
  {
   "cell_type": "code",
   "execution_count": 18,
   "metadata": {},
   "outputs": [
    {
     "name": "stderr",
     "output_type": "stream",
     "text": [
      "C:\\Users\\a0104\\AppData\\Local\\Temp\\ipykernel_8820\\3148965677.py:5: DeprecationWarning: executable_path has been deprecated, please pass in a Service object\n",
      "  driver = webdriver.Chrome(path)\n",
      "C:\\Users\\a0104\\AppData\\Local\\Temp\\ipykernel_8820\\3148965677.py:14: DeprecationWarning: find_elements_by_css_selector is deprecated. Please use find_elements(by=By.CSS_SELECTOR, value=css_selector) instead\n",
      "  test = driver.find_elements_by_css_selector(ul)\n",
      "C:\\Users\\a0104\\AppData\\Local\\Temp\\ipykernel_8820\\3148965677.py:18: DeprecationWarning: find_element_by_css_selector is deprecated. Please use find_element(by=By.CSS_SELECTOR, value=css_selector) instead\n",
      "  head = driver.find_element_by_css_selector(li+f\"> li:nth-child({i}) > div > div > strong > a\")\n"
     ]
    },
    {
     "name": "stdout",
     "output_type": "stream",
     "text": [
      "20\n",
      "오피스 임대가격지수 4년 만에 상승 전환..공실도 줄어\n",
      "尹대통령 \"초당적 협력\" 촉구했지만..60조 추경 '가시밭길'\n",
      "북한군도 코로나 비상..\"핵실험·미사일 발사에 영향은 적어\"\n",
      "'봉쇄령' 北 접경지역 인적 끊겨 적막..신의주 도로 텅 비어\n",
      "정부 \"북한 코로나 사태 확산, 인도적 지원 곧 제안\"\n",
      "협치 강조한 尹대통령, 野의원과 악수 위해 5분 간 본회의장 누볐다\n",
      "18번 박수..尹대통령, 시정연설 마치고 여야 '악수'\n",
      "트럼프, 2024년 백악관 재입성?..멜라니아 \"안 되는 건 없어\"\n",
      "윤호중 \"국민의힘, '이재명 죽이기' 올인..국론 분열\"\n",
      "대처 英 전총리 동상 설치 2시간만에 '계란 세례'\n",
      "'임대차3법 마지막 퍼즐' 전월세신고제 계도기간 연장한다\n",
      "\"농지투기 억제\"..18일부터 농지취득 자격 심사·관리 강화된다\n",
      "중국 상하이, 오늘부터 점진적 재개방..봉쇄 50일만\n",
      "친환경차 수출대수 역대 최다..전체 차 수출 25% 넘어\n",
      "인민은행, 정책금리 동결하고 기준환율은 내려..외인자금 유출 우려?\n",
      "서민 주거지부터 늘기 시작한 경매.. \"영끌족 못 버티나\"\n",
      "박노자 \"우크라이나에서 미-러 싸움..한국은 '거리두기'가 유리\"[최강시사]\n",
      "반도체 쇼크에도 친환경차 선전에 4월 車 수출대수 12.4%↑\n",
      "시장은 3달째 \"집값 오른다\" 전망..尹표 부동산 정책 영향받나\n",
      "국토연 \"공공임대·주거급여 지원효과 커, 확대해야\"\n"
     ]
    }
   ],
   "source": [
    "# 다음 뉴스 헤드라인 크롤링\n",
    "from selenium import webdriver\n",
    "\n",
    "path = \"C:\\\\webdriver\\\\chromedriver\"\n",
    "driver = webdriver.Chrome(path)\n",
    "\n",
    "url = \"https://news.daum.net/\"\n",
    "driver.get(url)\n",
    "\n",
    "ul = \"body > div.container-doc > main > section > div > div.content-article > div.box_g.box_news_issue > ul > li\"\n",
    "sel = \"body > div.container-doc > main > section > div > div.content-article > div.box_g.box_news_issue > ul > li:nth-child(1) > div > div > strong > a\"\n",
    "sel2 = \"body > div.container-doc > main > section > div > div.content-article > div.box_g.box_news_issue > ul > li:nth-child(2) > div > div > strong > a\"\n",
    "\n",
    "test = driver.find_elements_by_css_selector(ul)\n",
    "\n",
    "li = \"body > div.container-doc > main > section > div > div.content-article > div.box_g.box_news_issue > ul\"\n",
    "for i in range(1,len(test)+1):\n",
    "    head = driver.find_element_by_css_selector(li+f\"> li:nth-child({i}) > div > div > strong > a\")\n",
    "    print(head.text)"
   ]
  },
  {
   "cell_type": "code",
   "execution_count": 21,
   "metadata": {},
   "outputs": [],
   "source": [
    "title = driver.execute_script('return document.title;')\n",
    "title\n",
    "alert = driver.execute_script(\"alert('test')\")\n"
   ]
  },
  {
   "cell_type": "code",
   "execution_count": null,
   "metadata": {},
   "outputs": [],
   "source": []
  }
 ],
 "metadata": {
  "interpreter": {
   "hash": "b89b5cfaba6639976dc87ff2fec6d58faec662063367e2c229c520fe71072417"
  },
  "kernelspec": {
   "display_name": "Python 3.10.4 64-bit",
   "language": "python",
   "name": "python3"
  },
  "language_info": {
   "codemirror_mode": {
    "name": "ipython",
    "version": 3
   },
   "file_extension": ".py",
   "mimetype": "text/x-python",
   "name": "python",
   "nbconvert_exporter": "python",
   "pygments_lexer": "ipython3",
   "version": "3.10.4"
  },
  "orig_nbformat": 4
 },
 "nbformat": 4,
 "nbformat_minor": 2
}
