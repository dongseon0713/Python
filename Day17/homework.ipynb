{
 "cells": [
  {
   "cell_type": "code",
   "execution_count": 8,
   "metadata": {},
   "outputs": [
    {
     "name": "stdout",
     "output_type": "stream",
     "text": [
      "th 태그 내용\n",
      " 아이디 \n",
      " 비밀번호 \n"
     ]
    }
   ],
   "source": [
    "## 9장 문제 1번\n",
    "from bs4 import BeautifulSoup\n",
    "\n",
    "file = open('data/login.html','r',encoding='utf8')\n",
    "src = file.read()\n",
    "\n",
    "html = BeautifulSoup(src,'html.parser')\n",
    "\n",
    "print('th 태그 내용')\n",
    "th = data.find_all('th')\n",
    "for t in th:\n",
    "    print(t.string)\n"
   ]
  },
  {
   "cell_type": "code",
   "execution_count": 2,
   "metadata": {},
   "outputs": [
    {
     "name": "stdout",
     "output_type": "stream",
     "text": [
      "id=login_wrap 선택자의 하위 태그 전체 출력\n",
      "[<div id=\"login_wrap\">\n",
      "<h2 class=\"login_title\"> 회원 로그인 </h2>\n",
      "<form action=\"http://www.naver.com\" method=\"post\" name=\"frm\" onsubmit=\"return login_check()\">\n",
      "<table id=\"login_t\">\n",
      "<tr> <!-- 1행 -->\n",
      "<th> 아이디 </th>\n",
      "<td> <input class=\"input_box\" id=\"id\" name=\"id\" size=\"14\" type=\"text\"/>\n",
      "</td>\n",
      "</tr>\n",
      "<tr> <!-- 2행 -->\n",
      "<th> 비밀번호 </th>\n",
      "<td> <input class=\"input_box\" id=\"pwd\" name=\"pwd\" size=\"14\" type=\"password\"/>\n",
      "</td>\n",
      "</tr>\n",
      "</table>\n",
      "<div id=\"login_btn\">\n",
      "<input class=\"login_b\" type=\"submit\" value=\"로그인\"/>\n",
      "<input class=\"login_b\" onclick=\"$('#id').focus()\" type=\"reset\" value=\"취소\"/>\n",
      "</div>\n",
      "</form>\n",
      "</div>]\n",
      "id=login_wrap 선택자 > form > table 태그 내용 출력\n",
      "[<table id=\"login_t\">\n",
      "<tr> <!-- 1행 -->\n",
      "<th> 아이디 </th>\n",
      "<td> <input class=\"input_box\" id=\"id\" name=\"id\" size=\"14\" type=\"text\"/>\n",
      "</td>\n",
      "</tr>\n",
      "<tr> <!-- 2행 -->\n",
      "<th> 비밀번호 </th>\n",
      "<td> <input class=\"input_box\" id=\"pwd\" name=\"pwd\" size=\"14\" type=\"password\"/>\n",
      "</td>\n",
      "</tr>\n",
      "</table>]\n",
      "find_all(\"tr\") 함수 이용 th 태그 내용 출력\n",
      "[<th> 아이디 </th>]\n",
      "[<td> <input class=\"input_box\" id=\"id\" name=\"id\" size=\"14\" type=\"text\"/>\n",
      "</td>]\n",
      "[<th> 비밀번호 </th>]\n",
      "[<td> <input class=\"input_box\" id=\"pwd\" name=\"pwd\" size=\"14\" type=\"password\"/>\n",
      "</td>]\n"
     ]
    }
   ],
   "source": [
    "## 9장 문제 2번\n",
    "from bs4 import BeautifulSoup\n",
    "\n",
    "file = open('data/login.html','r',encoding='utf8')\n",
    "source = file.read()\n",
    "\n",
    "html = BeautifulSoup(source,'html.parser')\n",
    "\n",
    "print('id=login_wrap 선택자의 하위 태그 전체 출력')\n",
    "tags = html.select('#login_wrap')\n",
    "print(tags)\n",
    "\n",
    "print('id=login_wrap 선택자 > form > table 태그 내용 출력')\n",
    "tags2 = html.select('#login_wrap > form > table')\n",
    "print(tags2)\n",
    "\n",
    "print('find_all(\"tr\") 함수 이용 th 태그 내용 출력')\n",
    "tr = html.find_all('tr')\n",
    "\n",
    "for i in tr:\n",
    "    th = i.find_all('th')\n",
    "    print(th)"
   ]
  },
  {
   "cell_type": "code",
   "execution_count": 14,
   "metadata": {},
   "outputs": [
    {
     "name": "stdout",
     "output_type": "stream",
     "text": [
      "     Sepal.Length  Sepal.Width  Petal.Length  Petal.Width    Species\n",
      "0             5.1          3.5           1.4          0.2     setosa\n",
      "1             4.9          3.0           1.4          0.2     setosa\n",
      "2             4.7          3.2           1.3          0.2     setosa\n",
      "3             4.6          3.1           1.5          0.2     setosa\n",
      "4             5.0          3.6           1.4          0.2     setosa\n",
      "..            ...          ...           ...          ...        ...\n",
      "145           6.7          3.0           5.2          2.3  virginica\n",
      "146           6.3          2.5           5.0          1.9  virginica\n",
      "147           6.5          3.0           5.2          2.0  virginica\n",
      "148           6.2          3.4           5.4          2.3  virginica\n",
      "149           5.9          3.0           5.1          1.8  virginica\n",
      "\n",
      "[150 rows x 5 columns]\n",
      "<matplotlib.collections.PathCollection object at 0x00000179882266B0>\n",
      "<matplotlib.collections.PathCollection object at 0x0000017988226C50>\n"
     ]
    },
    {
     "data": {
      "image/png": "[encoded data removed]",
      "text/plain": [
       "<Figure size 432x288 with 1 Axes>"
      ]
     },
     "metadata": {
      "needs_background": "light"
     },
     "output_type": "display_data"
    }
   ],
   "source": [
    "## 9장 문제 3번\n",
    "import pandas as pd\n",
    "import matplotlib.pyplot as plt\n",
    "\n",
    "iris = pd.read_csv('data/iris.csv')\n",
    "print(iris)\n",
    "graph = plt.scatter(iris['Sepal.Length'], iris['Petal.Length'])\n",
    "print(graph)\n",
    "color = []\n",
    "\n",
    "for i in iris.Species:\n",
    "    if i == 'setosa':\n",
    "        color.append(1)\n",
    "    elif i == 'versicolor':\n",
    "        color.append(2)\n",
    "    elif i == 'virginica':\n",
    "        color.append(3)\n",
    "        \n",
    "graph2 = plt.scatter(iris['Sepal.Length'], iris['Petal.Length'],c=color)\n",
    "print(graph2)\n"
   ]
  },
  {
   "cell_type": "code",
   "execution_count": null,
   "metadata": {},
   "outputs": [],
   "source": []
  }
 ],
 "metadata": {
  "interpreter": {
   "hash": "b89b5cfaba6639976dc87ff2fec6d58faec662063367e2c229c520fe71072417"
  },
  "kernelspec": {
   "display_name": "Python 3.10.4 64-bit",
   "language": "python",
   "name": "python3"
  },
  "language_info": {
   "codemirror_mode": {
    "name": "ipython",
    "version": 3
   },
   "file_extension": ".py",
   "mimetype": "text/x-python",
   "name": "python",
   "nbconvert_exporter": "python",
   "pygments_lexer": "ipython3",
   "version": "3.10.4"
  },
  "orig_nbformat": 4
 },
 "nbformat": 4,
 "nbformat_minor": 2
}
